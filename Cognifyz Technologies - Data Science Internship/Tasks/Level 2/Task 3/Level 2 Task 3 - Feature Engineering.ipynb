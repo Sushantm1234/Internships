{
 "cells": [
  {
   "cell_type": "markdown",
   "id": "596eb08f-8542-4306-9375-c2b8c2e58020",
   "metadata": {},
   "source": [
    "### Task: Feature Engineering\n",
    "Extract additional features from the existing columns, such as the length of the restaurant name or address.\r\n",
    "Create new features like \"Has Table Booking \"or \"Has Online Delivery\" by encodin gcategorical variables."
   ]
  },
  {
   "cell_type": "markdown",
   "id": "12ac84ef-86a9-40e0-8385-7f75034965fd",
   "metadata": {},
   "source": [
    "### Importing Libraries"
   ]
  },
  {
   "cell_type": "code",
   "execution_count": 3,
   "id": "9f3346bf-f1c4-46fa-96c4-4c5f05db8d4e",
   "metadata": {},
   "outputs": [],
   "source": [
    "# Importing the Libraries\n",
    "import numpy as np\n",
    "import pandas as pd\n",
    "import matplotlib.pyplot as plt\n",
    "import seaborn as sns\n",
    "import plotly.express as px\n",
    "\n",
    "import warnings\n",
    "warnings.filterwarnings('ignore')"
   ]
  },
  {
   "cell_type": "markdown",
   "id": "94253f22-719b-4005-8c76-cdf1e38821d5",
   "metadata": {},
   "source": [
    "### Importing Dataset"
   ]
  },
  {
   "cell_type": "code",
   "execution_count": 5,
   "id": "63aff25b-86d4-4db3-baee-617a10dd842e",
   "metadata": {},
   "outputs": [],
   "source": [
    "# Importing the required dataset\n",
    "df = pd.read_csv('Dataset .csv')"
   ]
  },
  {
   "cell_type": "code",
   "execution_count": 6,
   "id": "b4f41e2e-2eee-4829-9df0-802aa884daa8",
   "metadata": {},
   "outputs": [
    {
     "data": {
      "text/html": [
       "<div>\n",
       "<style scoped>\n",
       "    .dataframe tbody tr th:only-of-type {\n",
       "        vertical-align: middle;\n",
       "    }\n",
       "\n",
       "    .dataframe tbody tr th {\n",
       "        vertical-align: top;\n",
       "    }\n",
       "\n",
       "    .dataframe thead th {\n",
       "        text-align: right;\n",
       "    }\n",
       "</style>\n",
       "<table border=\"1\" class=\"dataframe\">\n",
       "  <thead>\n",
       "    <tr style=\"text-align: right;\">\n",
       "      <th></th>\n",
       "      <th>Restaurant ID</th>\n",
       "      <th>Restaurant Name</th>\n",
       "      <th>Country Code</th>\n",
       "      <th>City</th>\n",
       "      <th>Address</th>\n",
       "      <th>Locality</th>\n",
       "      <th>Locality Verbose</th>\n",
       "      <th>Longitude</th>\n",
       "      <th>Latitude</th>\n",
       "      <th>Cuisines</th>\n",
       "      <th>...</th>\n",
       "      <th>Currency</th>\n",
       "      <th>Has Table booking</th>\n",
       "      <th>Has Online delivery</th>\n",
       "      <th>Is delivering now</th>\n",
       "      <th>Switch to order menu</th>\n",
       "      <th>Price range</th>\n",
       "      <th>Aggregate rating</th>\n",
       "      <th>Rating color</th>\n",
       "      <th>Rating text</th>\n",
       "      <th>Votes</th>\n",
       "    </tr>\n",
       "  </thead>\n",
       "  <tbody>\n",
       "    <tr>\n",
       "      <th>0</th>\n",
       "      <td>6317637</td>\n",
       "      <td>Le Petit Souffle</td>\n",
       "      <td>162</td>\n",
       "      <td>Makati City</td>\n",
       "      <td>Third Floor, Century City Mall, Kalayaan Avenu...</td>\n",
       "      <td>Century City Mall, Poblacion, Makati City</td>\n",
       "      <td>Century City Mall, Poblacion, Makati City, Mak...</td>\n",
       "      <td>121.027535</td>\n",
       "      <td>14.565443</td>\n",
       "      <td>French, Japanese, Desserts</td>\n",
       "      <td>...</td>\n",
       "      <td>Botswana Pula(P)</td>\n",
       "      <td>Yes</td>\n",
       "      <td>No</td>\n",
       "      <td>No</td>\n",
       "      <td>No</td>\n",
       "      <td>3</td>\n",
       "      <td>4.8</td>\n",
       "      <td>Dark Green</td>\n",
       "      <td>Excellent</td>\n",
       "      <td>314</td>\n",
       "    </tr>\n",
       "    <tr>\n",
       "      <th>1</th>\n",
       "      <td>6304287</td>\n",
       "      <td>Izakaya Kikufuji</td>\n",
       "      <td>162</td>\n",
       "      <td>Makati City</td>\n",
       "      <td>Little Tokyo, 2277 Chino Roces Avenue, Legaspi...</td>\n",
       "      <td>Little Tokyo, Legaspi Village, Makati City</td>\n",
       "      <td>Little Tokyo, Legaspi Village, Makati City, Ma...</td>\n",
       "      <td>121.014101</td>\n",
       "      <td>14.553708</td>\n",
       "      <td>Japanese</td>\n",
       "      <td>...</td>\n",
       "      <td>Botswana Pula(P)</td>\n",
       "      <td>Yes</td>\n",
       "      <td>No</td>\n",
       "      <td>No</td>\n",
       "      <td>No</td>\n",
       "      <td>3</td>\n",
       "      <td>4.5</td>\n",
       "      <td>Dark Green</td>\n",
       "      <td>Excellent</td>\n",
       "      <td>591</td>\n",
       "    </tr>\n",
       "    <tr>\n",
       "      <th>2</th>\n",
       "      <td>6300002</td>\n",
       "      <td>Heat - Edsa Shangri-La</td>\n",
       "      <td>162</td>\n",
       "      <td>Mandaluyong City</td>\n",
       "      <td>Edsa Shangri-La, 1 Garden Way, Ortigas, Mandal...</td>\n",
       "      <td>Edsa Shangri-La, Ortigas, Mandaluyong City</td>\n",
       "      <td>Edsa Shangri-La, Ortigas, Mandaluyong City, Ma...</td>\n",
       "      <td>121.056831</td>\n",
       "      <td>14.581404</td>\n",
       "      <td>Seafood, Asian, Filipino, Indian</td>\n",
       "      <td>...</td>\n",
       "      <td>Botswana Pula(P)</td>\n",
       "      <td>Yes</td>\n",
       "      <td>No</td>\n",
       "      <td>No</td>\n",
       "      <td>No</td>\n",
       "      <td>4</td>\n",
       "      <td>4.4</td>\n",
       "      <td>Green</td>\n",
       "      <td>Very Good</td>\n",
       "      <td>270</td>\n",
       "    </tr>\n",
       "    <tr>\n",
       "      <th>3</th>\n",
       "      <td>6318506</td>\n",
       "      <td>Ooma</td>\n",
       "      <td>162</td>\n",
       "      <td>Mandaluyong City</td>\n",
       "      <td>Third Floor, Mega Fashion Hall, SM Megamall, O...</td>\n",
       "      <td>SM Megamall, Ortigas, Mandaluyong City</td>\n",
       "      <td>SM Megamall, Ortigas, Mandaluyong City, Mandal...</td>\n",
       "      <td>121.056475</td>\n",
       "      <td>14.585318</td>\n",
       "      <td>Japanese, Sushi</td>\n",
       "      <td>...</td>\n",
       "      <td>Botswana Pula(P)</td>\n",
       "      <td>No</td>\n",
       "      <td>No</td>\n",
       "      <td>No</td>\n",
       "      <td>No</td>\n",
       "      <td>4</td>\n",
       "      <td>4.9</td>\n",
       "      <td>Dark Green</td>\n",
       "      <td>Excellent</td>\n",
       "      <td>365</td>\n",
       "    </tr>\n",
       "    <tr>\n",
       "      <th>4</th>\n",
       "      <td>6314302</td>\n",
       "      <td>Sambo Kojin</td>\n",
       "      <td>162</td>\n",
       "      <td>Mandaluyong City</td>\n",
       "      <td>Third Floor, Mega Atrium, SM Megamall, Ortigas...</td>\n",
       "      <td>SM Megamall, Ortigas, Mandaluyong City</td>\n",
       "      <td>SM Megamall, Ortigas, Mandaluyong City, Mandal...</td>\n",
       "      <td>121.057508</td>\n",
       "      <td>14.584450</td>\n",
       "      <td>Japanese, Korean</td>\n",
       "      <td>...</td>\n",
       "      <td>Botswana Pula(P)</td>\n",
       "      <td>Yes</td>\n",
       "      <td>No</td>\n",
       "      <td>No</td>\n",
       "      <td>No</td>\n",
       "      <td>4</td>\n",
       "      <td>4.8</td>\n",
       "      <td>Dark Green</td>\n",
       "      <td>Excellent</td>\n",
       "      <td>229</td>\n",
       "    </tr>\n",
       "  </tbody>\n",
       "</table>\n",
       "<p>5 rows × 21 columns</p>\n",
       "</div>"
      ],
      "text/plain": [
       "   Restaurant ID         Restaurant Name  Country Code              City  \\\n",
       "0        6317637        Le Petit Souffle           162       Makati City   \n",
       "1        6304287        Izakaya Kikufuji           162       Makati City   \n",
       "2        6300002  Heat - Edsa Shangri-La           162  Mandaluyong City   \n",
       "3        6318506                    Ooma           162  Mandaluyong City   \n",
       "4        6314302             Sambo Kojin           162  Mandaluyong City   \n",
       "\n",
       "                                             Address  \\\n",
       "0  Third Floor, Century City Mall, Kalayaan Avenu...   \n",
       "1  Little Tokyo, 2277 Chino Roces Avenue, Legaspi...   \n",
       "2  Edsa Shangri-La, 1 Garden Way, Ortigas, Mandal...   \n",
       "3  Third Floor, Mega Fashion Hall, SM Megamall, O...   \n",
       "4  Third Floor, Mega Atrium, SM Megamall, Ortigas...   \n",
       "\n",
       "                                     Locality  \\\n",
       "0   Century City Mall, Poblacion, Makati City   \n",
       "1  Little Tokyo, Legaspi Village, Makati City   \n",
       "2  Edsa Shangri-La, Ortigas, Mandaluyong City   \n",
       "3      SM Megamall, Ortigas, Mandaluyong City   \n",
       "4      SM Megamall, Ortigas, Mandaluyong City   \n",
       "\n",
       "                                    Locality Verbose   Longitude   Latitude  \\\n",
       "0  Century City Mall, Poblacion, Makati City, Mak...  121.027535  14.565443   \n",
       "1  Little Tokyo, Legaspi Village, Makati City, Ma...  121.014101  14.553708   \n",
       "2  Edsa Shangri-La, Ortigas, Mandaluyong City, Ma...  121.056831  14.581404   \n",
       "3  SM Megamall, Ortigas, Mandaluyong City, Mandal...  121.056475  14.585318   \n",
       "4  SM Megamall, Ortigas, Mandaluyong City, Mandal...  121.057508  14.584450   \n",
       "\n",
       "                           Cuisines  ...          Currency Has Table booking  \\\n",
       "0        French, Japanese, Desserts  ...  Botswana Pula(P)               Yes   \n",
       "1                          Japanese  ...  Botswana Pula(P)               Yes   \n",
       "2  Seafood, Asian, Filipino, Indian  ...  Botswana Pula(P)               Yes   \n",
       "3                   Japanese, Sushi  ...  Botswana Pula(P)                No   \n",
       "4                  Japanese, Korean  ...  Botswana Pula(P)               Yes   \n",
       "\n",
       "  Has Online delivery Is delivering now Switch to order menu Price range  \\\n",
       "0                  No                No                   No           3   \n",
       "1                  No                No                   No           3   \n",
       "2                  No                No                   No           4   \n",
       "3                  No                No                   No           4   \n",
       "4                  No                No                   No           4   \n",
       "\n",
       "   Aggregate rating  Rating color Rating text Votes  \n",
       "0               4.8    Dark Green   Excellent   314  \n",
       "1               4.5    Dark Green   Excellent   591  \n",
       "2               4.4         Green   Very Good   270  \n",
       "3               4.9    Dark Green   Excellent   365  \n",
       "4               4.8    Dark Green   Excellent   229  \n",
       "\n",
       "[5 rows x 21 columns]"
      ]
     },
     "execution_count": 6,
     "metadata": {},
     "output_type": "execute_result"
    }
   ],
   "source": [
    "# getting first five rows of the dataset\n",
    "df.head()"
   ]
  },
  {
   "cell_type": "code",
   "execution_count": null,
   "id": "a2abf548-cb53-4d16-a001-f78db3e09a0c",
   "metadata": {},
   "outputs": [],
   "source": []
  },
  {
   "cell_type": "markdown",
   "id": "1da3bfb8-dea4-4930-accd-71d8ee440eb1",
   "metadata": {},
   "source": [
    "##### **Checking Number of Rows and Columns**"
   ]
  },
  {
   "cell_type": "code",
   "execution_count": 8,
   "id": "5ee212e5-79f4-4262-83a0-b621ace9c6ea",
   "metadata": {},
   "outputs": [
    {
     "name": "stdout",
     "output_type": "stream",
     "text": [
      "Number of rows: 9551\n",
      "Number of columns: 21\n"
     ]
    }
   ],
   "source": [
    "# Get number of rows and columns\n",
    "rows, cols = df.shape\n",
    "print(f\"Number of rows: {rows}\")\n",
    "print(f\"Number of columns: {cols}\")"
   ]
  },
  {
   "cell_type": "code",
   "execution_count": null,
   "id": "16663f1b-7d8b-45b6-8ec1-42ce2fb86b92",
   "metadata": {},
   "outputs": [],
   "source": []
  },
  {
   "cell_type": "markdown",
   "id": "ad3c33a2-3c70-46ce-aeb8-3c2b2fa29a43",
   "metadata": {},
   "source": [
    "##### **Check for Missing Values in Each Column and Handle Them Accordingly**"
   ]
  },
  {
   "cell_type": "code",
   "execution_count": 10,
   "id": "8d06231b-cf82-4b5c-b429-8059f0ab74d9",
   "metadata": {},
   "outputs": [
    {
     "name": "stdout",
     "output_type": "stream",
     "text": [
      "Missing values in each column:\n",
      "Restaurant ID           0\n",
      "Restaurant Name         0\n",
      "Country Code            0\n",
      "City                    0\n",
      "Address                 0\n",
      "Locality                0\n",
      "Locality Verbose        0\n",
      "Longitude               0\n",
      "Latitude                0\n",
      "Cuisines                9\n",
      "Average Cost for two    0\n",
      "Currency                0\n",
      "Has Table booking       0\n",
      "Has Online delivery     0\n",
      "Is delivering now       0\n",
      "Switch to order menu    0\n",
      "Price range             0\n",
      "Aggregate rating        0\n",
      "Rating color            0\n",
      "Rating text             0\n",
      "Votes                   0\n",
      "dtype: int64\n"
     ]
    }
   ],
   "source": [
    "# Check for missing values in each column\n",
    "\n",
    "missing_values = df.isnull().sum()\n",
    "print(\"Missing values in each column:\")\n",
    "print(missing_values)"
   ]
  },
  {
   "cell_type": "code",
   "execution_count": 11,
   "id": "e1414a88-2ec6-4aed-b755-86479ded8b0d",
   "metadata": {},
   "outputs": [],
   "source": [
    "# For categorical columns, you can either fill missing values with the mode (most frequent value) or drop them\n",
    "\n",
    "df['Cuisines'].fillna(df['Cuisines'].mode()[0], inplace=True)"
   ]
  },
  {
   "cell_type": "code",
   "execution_count": 13,
   "id": "de3809c8-be9d-4b70-ba8f-8485a5715cab",
   "metadata": {},
   "outputs": [
    {
     "name": "stdout",
     "output_type": "stream",
     "text": [
      "Missing values after handling:\n",
      "Restaurant ID           0\n",
      "Restaurant Name         0\n",
      "Country Code            0\n",
      "City                    0\n",
      "Address                 0\n",
      "Locality                0\n",
      "Locality Verbose        0\n",
      "Longitude               0\n",
      "Latitude                0\n",
      "Cuisines                0\n",
      "Average Cost for two    0\n",
      "Currency                0\n",
      "Has Table booking       0\n",
      "Has Online delivery     0\n",
      "Is delivering now       0\n",
      "Switch to order menu    0\n",
      "Price range             0\n",
      "Aggregate rating        0\n",
      "Rating color            0\n",
      "Rating text             0\n",
      "Votes                   0\n",
      "dtype: int64\n"
     ]
    }
   ],
   "source": [
    "# Verify missing values after handling them\n",
    "\n",
    "print(\"Missing values after handling:\")\n",
    "print(df.isnull().sum())"
   ]
  },
  {
   "cell_type": "code",
   "execution_count": null,
   "id": "d2724882-4796-41b0-9644-a9495091a03a",
   "metadata": {},
   "outputs": [],
   "source": []
  },
  {
   "cell_type": "markdown",
   "id": "6b62560e-1b30-4b16-aa03-32357caf0ba9",
   "metadata": {},
   "source": [
    "##### **Perform Data Type Conversion if Necessary**"
   ]
  },
  {
   "cell_type": "code",
   "execution_count": 15,
   "id": "f2989fa0-bbb8-44ca-95e4-27f6d97f1862",
   "metadata": {},
   "outputs": [
    {
     "name": "stdout",
     "output_type": "stream",
     "text": [
      "<class 'pandas.core.frame.DataFrame'>\n",
      "RangeIndex: 9551 entries, 0 to 9550\n",
      "Data columns (total 21 columns):\n",
      " #   Column                Non-Null Count  Dtype  \n",
      "---  ------                --------------  -----  \n",
      " 0   Restaurant ID         9551 non-null   int64  \n",
      " 1   Restaurant Name       9551 non-null   object \n",
      " 2   Country Code          9551 non-null   int64  \n",
      " 3   City                  9551 non-null   object \n",
      " 4   Address               9551 non-null   object \n",
      " 5   Locality              9551 non-null   object \n",
      " 6   Locality Verbose      9551 non-null   object \n",
      " 7   Longitude             9551 non-null   float64\n",
      " 8   Latitude              9551 non-null   float64\n",
      " 9   Cuisines              9551 non-null   object \n",
      " 10  Average Cost for two  9551 non-null   int64  \n",
      " 11  Currency              9551 non-null   object \n",
      " 12  Has Table booking     9551 non-null   object \n",
      " 13  Has Online delivery   9551 non-null   object \n",
      " 14  Is delivering now     9551 non-null   object \n",
      " 15  Switch to order menu  9551 non-null   object \n",
      " 16  Price range           9551 non-null   int64  \n",
      " 17  Aggregate rating      9551 non-null   float64\n",
      " 18  Rating color          9551 non-null   object \n",
      " 19  Rating text           9551 non-null   object \n",
      " 20  Votes                 9551 non-null   int64  \n",
      "dtypes: float64(3), int64(5), object(13)\n",
      "memory usage: 1.5+ MB\n"
     ]
    }
   ],
   "source": [
    "df.info()"
   ]
  },
  {
   "cell_type": "markdown",
   "id": "77f53eb9-e540-4f6c-91dd-cede0d12679e",
   "metadata": {},
   "source": [
    "Note - There is no need type Conversion."
   ]
  },
  {
   "cell_type": "code",
   "execution_count": null,
   "id": "c7a15e20-9f05-475c-9d0d-b73561a4b93c",
   "metadata": {},
   "outputs": [],
   "source": []
  },
  {
   "cell_type": "markdown",
   "id": "4ed0d30e-48ca-42a9-90f9-6a6e4e63c85d",
   "metadata": {},
   "source": [
    "#### **Extract Additional Features**"
   ]
  },
  {
   "cell_type": "markdown",
   "id": "001d9b9d-b751-4fa1-b2ff-473203e78b70",
   "metadata": {},
   "source": [
    "##### **1. Length of Restaurant Name**"
   ]
  },
  {
   "cell_type": "code",
   "execution_count": 19,
   "id": "6d01a3be-189a-480b-8fdf-c66e023e5c10",
   "metadata": {},
   "outputs": [],
   "source": [
    "# Add a new feature: Length of restaurant name\n",
    "df['Name Length'] = df['Restaurant Name'].apply(len)"
   ]
  },
  {
   "cell_type": "code",
   "execution_count": 20,
   "id": "98303cbf-4d40-45d8-910c-46a9557fd05d",
   "metadata": {},
   "outputs": [
    {
     "name": "stdout",
     "output_type": "stream",
     "text": [
      "          Restaurant Name  Name Length\n",
      "0        Le Petit Souffle           16\n",
      "1        Izakaya Kikufuji           16\n",
      "2  Heat - Edsa Shangri-La           22\n",
      "3                    Ooma            4\n",
      "4             Sambo Kojin           11\n"
     ]
    }
   ],
   "source": [
    "# Display the first few rows with the new feature\n",
    "print(df[['Restaurant Name', 'Name Length']].head())"
   ]
  },
  {
   "cell_type": "code",
   "execution_count": 21,
   "id": "3012b803-1354-488d-a81c-1e1f4d26f58b",
   "metadata": {},
   "outputs": [
    {
     "data": {
      "image/png": "[encoded data removed]",
      "text/plain": [
       "<Figure size 800x600 with 1 Axes>"
      ]
     },
     "metadata": {},
     "output_type": "display_data"
    }
   ],
   "source": [
    "# Visualize the distribution of the name lengths\n",
    "plt.figure(figsize=(8, 6))\n",
    "df['Name Length'].plot(kind='hist', bins=20, color='skyblue', edgecolor='black')\n",
    "plt.title(\"Distribution of Restaurant Name Lengths\")\n",
    "plt.xlabel(\"Length of Name\")\n",
    "plt.ylabel(\"Frequency\")\n",
    "plt.show()"
   ]
  },
  {
   "cell_type": "markdown",
   "id": "eb946ed4-557a-48e9-a457-c38efe3653ee",
   "metadata": {},
   "source": [
    "##### **2. Length of Address**"
   ]
  },
  {
   "cell_type": "code",
   "execution_count": 23,
   "id": "81bb63bd-aa04-4c78-aeda-b1e5e980aa9f",
   "metadata": {},
   "outputs": [],
   "source": [
    "# Add a new feature: Length of the address\n",
    "df['Address Length'] = df['Address'].apply(len)"
   ]
  },
  {
   "cell_type": "code",
   "execution_count": 24,
   "id": "9df53d1d-674f-4598-a323-8ae6f6efbb68",
   "metadata": {},
   "outputs": [
    {
     "name": "stdout",
     "output_type": "stream",
     "text": [
      "                                             Address  Address Length\n",
      "0  Third Floor, Century City Mall, Kalayaan Avenu...              71\n",
      "1  Little Tokyo, 2277 Chino Roces Avenue, Legaspi...              67\n",
      "2  Edsa Shangri-La, 1 Garden Way, Ortigas, Mandal...              56\n",
      "3  Third Floor, Mega Fashion Hall, SM Megamall, O...              70\n",
      "4  Third Floor, Mega Atrium, SM Megamall, Ortigas...              64\n"
     ]
    }
   ],
   "source": [
    "# Display the first few rows with the new feature\n",
    "print(df[['Address', 'Address Length']].head())"
   ]
  },
  {
   "cell_type": "code",
   "execution_count": 25,
   "id": "41a1c14d-9b4b-43e8-b6d5-82f12d1ddd14",
   "metadata": {},
   "outputs": [
    {
     "data": {
      "image/png": "[encoded data removed]",
      "text/plain": [
       "<Figure size 800x600 with 1 Axes>"
      ]
     },
     "metadata": {},
     "output_type": "display_data"
    }
   ],
   "source": [
    "# Visualize the distribution of address lengths\n",
    "plt.figure(figsize=(8, 6))\n",
    "df['Address Length'].plot(kind='hist', bins=20, color='orange', edgecolor='black')\n",
    "plt.title(\"Distribution of Address Lengths\")\n",
    "plt.xlabel(\"Length of Address\")\n",
    "plt.ylabel(\"Frequency\")\n",
    "plt.show()"
   ]
  },
  {
   "cell_type": "code",
   "execution_count": null,
   "id": "cf3a90a6-9566-4023-b1da-6e2362e88d2e",
   "metadata": {},
   "outputs": [],
   "source": []
  },
  {
   "cell_type": "markdown",
   "id": "b00db811-31db-41a0-ad73-64e6c51963f1",
   "metadata": {},
   "source": [
    "#### **Create New Features**"
   ]
  },
  {
   "cell_type": "markdown",
   "id": "e7e337cd-36fb-4d0d-82c7-4b0c5eef2e14",
   "metadata": {},
   "source": [
    "##### **1. Encode \"Has Table Booking\"**"
   ]
  },
  {
   "cell_type": "code",
   "execution_count": 28,
   "id": "3d9a85e4-c10b-4940-b544-7ff29a985e8a",
   "metadata": {},
   "outputs": [],
   "source": [
    "# Convert 'Has Table booking' column to binary (Yes = 1, No = 0)\n",
    "df['Has Table Booking (Binary)'] = df['Has Table booking'].apply(lambda x: 1 if x.lower() == 'yes' else 0)"
   ]
  },
  {
   "cell_type": "code",
   "execution_count": 29,
   "id": "afb99627-4caa-49f6-9427-c3e4dd1b9786",
   "metadata": {},
   "outputs": [
    {
     "name": "stdout",
     "output_type": "stream",
     "text": [
      "  Has Table booking  Has Table Booking (Binary)\n",
      "0               Yes                           1\n",
      "1               Yes                           1\n",
      "2               Yes                           1\n",
      "3                No                           0\n",
      "4               Yes                           1\n"
     ]
    }
   ],
   "source": [
    "# Display the first few rows with the new feature\n",
    "print(df[['Has Table booking', 'Has Table Booking (Binary)']].head())"
   ]
  },
  {
   "cell_type": "markdown",
   "id": "38aa11aa-fc7c-445f-b84a-08ab89040993",
   "metadata": {},
   "source": [
    "##### **2. Encode \"Has Online Delivery\"**"
   ]
  },
  {
   "cell_type": "code",
   "execution_count": 31,
   "id": "a29d8598-d738-4633-89ea-155e68835f40",
   "metadata": {},
   "outputs": [],
   "source": [
    "# Convert 'Has Online delivery' column to binary (Yes = 1, No = 0)\n",
    "df['Has Online Delivery (Binary)'] = df['Has Online delivery'].apply(lambda x: 1 if x.lower() == 'yes' else 0)"
   ]
  },
  {
   "cell_type": "code",
   "execution_count": 32,
   "id": "c50c2cd3-701e-464d-998f-315e62b476cb",
   "metadata": {},
   "outputs": [
    {
     "name": "stdout",
     "output_type": "stream",
     "text": [
      "  Has Online delivery  Has Online Delivery (Binary)\n",
      "0                  No                             0\n",
      "1                  No                             0\n",
      "2                  No                             0\n",
      "3                  No                             0\n",
      "4                  No                             0\n"
     ]
    }
   ],
   "source": [
    "# Display the first few rows with the new feature\n",
    "print(df[['Has Online delivery', 'Has Online Delivery (Binary)']].head())"
   ]
  },
  {
   "cell_type": "code",
   "execution_count": null,
   "id": "78295e9e-fb01-46ac-8c5c-8c91e3082c5c",
   "metadata": {},
   "outputs": [],
   "source": []
  },
  {
   "cell_type": "markdown",
   "id": "6dce30f2-fe40-42cd-9cfa-f7902ccb6f3e",
   "metadata": {},
   "source": [
    "##### **Verify and Save the Updated Dataset**"
   ]
  },
  {
   "cell_type": "code",
   "execution_count": 34,
   "id": "53c890de-be57-413d-9d85-25fadb16c749",
   "metadata": {},
   "outputs": [
    {
     "name": "stdout",
     "output_type": "stream",
     "text": [
      "   Restaurant ID         Restaurant Name  Country Code              City  \\\n",
      "0        6317637        Le Petit Souffle           162       Makati City   \n",
      "1        6304287        Izakaya Kikufuji           162       Makati City   \n",
      "2        6300002  Heat - Edsa Shangri-La           162  Mandaluyong City   \n",
      "3        6318506                    Ooma           162  Mandaluyong City   \n",
      "4        6314302             Sambo Kojin           162  Mandaluyong City   \n",
      "\n",
      "                                             Address  \\\n",
      "0  Third Floor, Century City Mall, Kalayaan Avenu...   \n",
      "1  Little Tokyo, 2277 Chino Roces Avenue, Legaspi...   \n",
      "2  Edsa Shangri-La, 1 Garden Way, Ortigas, Mandal...   \n",
      "3  Third Floor, Mega Fashion Hall, SM Megamall, O...   \n",
      "4  Third Floor, Mega Atrium, SM Megamall, Ortigas...   \n",
      "\n",
      "                                     Locality  \\\n",
      "0   Century City Mall, Poblacion, Makati City   \n",
      "1  Little Tokyo, Legaspi Village, Makati City   \n",
      "2  Edsa Shangri-La, Ortigas, Mandaluyong City   \n",
      "3      SM Megamall, Ortigas, Mandaluyong City   \n",
      "4      SM Megamall, Ortigas, Mandaluyong City   \n",
      "\n",
      "                                    Locality Verbose   Longitude   Latitude  \\\n",
      "0  Century City Mall, Poblacion, Makati City, Mak...  121.027535  14.565443   \n",
      "1  Little Tokyo, Legaspi Village, Makati City, Ma...  121.014101  14.553708   \n",
      "2  Edsa Shangri-La, Ortigas, Mandaluyong City, Ma...  121.056831  14.581404   \n",
      "3  SM Megamall, Ortigas, Mandaluyong City, Mandal...  121.056475  14.585318   \n",
      "4  SM Megamall, Ortigas, Mandaluyong City, Mandal...  121.057508  14.584450   \n",
      "\n",
      "                           Cuisines  ...  Switch to order menu Price range  \\\n",
      "0        French, Japanese, Desserts  ...                    No           3   \n",
      "1                          Japanese  ...                    No           3   \n",
      "2  Seafood, Asian, Filipino, Indian  ...                    No           4   \n",
      "3                   Japanese, Sushi  ...                    No           4   \n",
      "4                  Japanese, Korean  ...                    No           4   \n",
      "\n",
      "  Aggregate rating Rating color Rating text Votes  Name Length  \\\n",
      "0              4.8   Dark Green   Excellent   314           16   \n",
      "1              4.5   Dark Green   Excellent   591           16   \n",
      "2              4.4        Green   Very Good   270           22   \n",
      "3              4.9   Dark Green   Excellent   365            4   \n",
      "4              4.8   Dark Green   Excellent   229           11   \n",
      "\n",
      "   Address Length Has Table Booking (Binary) Has Online Delivery (Binary)  \n",
      "0              71                          1                            0  \n",
      "1              67                          1                            0  \n",
      "2              56                          1                            0  \n",
      "3              70                          0                            0  \n",
      "4              64                          1                            0  \n",
      "\n",
      "[5 rows x 25 columns]\n",
      "Updated dataset saved as 'Dataset_with_features.csv'\n"
     ]
    }
   ],
   "source": [
    "# Check the dataset with new features\n",
    "print(df.head())\n",
    "\n",
    "# Save the updated dataset for further analysis\n",
    "df.to_csv('Dataset_with_features.csv', index=False)\n",
    "print(\"Updated dataset saved as 'Dataset_with_features.csv'\")"
   ]
  },
  {
   "cell_type": "code",
   "execution_count": null,
   "id": "0254948b-cd78-49f3-97d7-3a68a838eb26",
   "metadata": {},
   "outputs": [],
   "source": []
  }
 ],
 "metadata": {
  "kernelspec": {
   "display_name": "Python 3 (ipykernel)",
   "language": "python",
   "name": "python3"
  },
  "language_info": {
   "codemirror_mode": {
    "name": "ipython",
    "version": 3
   },
   "file_extension": ".py",
   "mimetype": "text/x-python",
   "name": "python",
   "nbconvert_exporter": "python",
   "pygments_lexer": "ipython3",
   "version": "3.12.4"
  }
 },
 "nbformat": 4,
 "nbformat_minor": 5
}
