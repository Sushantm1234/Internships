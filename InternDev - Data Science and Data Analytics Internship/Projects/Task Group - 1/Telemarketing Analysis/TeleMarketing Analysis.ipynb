{
 "cells": [
  {
   "cell_type": "markdown",
   "id": "6f28e3fc-4bd2-40b5-9a3d-da58d018f15f",
   "metadata": {},
   "source": [
    "## Title - TeleMarketing Analysis"
   ]
  },
  {
   "cell_type": "markdown",
   "id": "a5dc5723-b6df-4a7f-b793-f34d17f342a1",
   "metadata": {},
   "source": [
    "### Importing Libraries"
   ]
  },
  {
   "cell_type": "code",
   "execution_count": 3,
   "id": "5c12adfa",
   "metadata": {
    "_cell_guid": "b1076dfc-b9ad-4769-8c92-a6c4dae69d19",
    "_uuid": "8f2839f25d086af736a60e9eeb907d3b93b6e0e5",
    "papermill": {
     "duration": 1.240244,
     "end_time": "2022-10-14T19:00:13.888255",
     "exception": false,
     "start_time": "2022-10-14T19:00:12.648011",
     "status": "completed"
    },
    "tags": []
   },
   "outputs": [],
   "source": [
    "# Importing the Libraries\n",
    "import numpy as np \n",
    "import pandas as pd \n",
    "import matplotlib.pyplot as plt\n",
    "import seaborn as sns\n",
    "\n",
    "import warnings\n",
    "warnings.filterwarnings('ignore')"
   ]
  },
  {
   "cell_type": "markdown",
   "id": "8059b3bb-c4ca-4c9a-ba71-ea6cdcbfeeef",
   "metadata": {},
   "source": [
    "### Importing Dataset"
   ]
  },
  {
   "cell_type": "code",
   "execution_count": 5,
   "id": "a83d4575",
   "metadata": {
    "papermill": {
     "duration": 0.266485,
     "end_time": "2022-10-14T19:00:14.163204",
     "exception": false,
     "start_time": "2022-10-14T19:00:13.896719",
     "status": "completed"
    },
    "tags": []
   },
   "outputs": [],
   "source": [
    "# Importing the dataset\n",
    "df = pd.read_csv('dataset_X.csv')"
   ]
  },
  {
   "cell_type": "code",
   "execution_count": 6,
   "id": "d76125b3-fcfa-4bde-9b1f-8e8d1e9279dd",
   "metadata": {},
   "outputs": [
    {
     "data": {
      "text/html": [
       "<div>\n",
       "<style scoped>\n",
       "    .dataframe tbody tr th:only-of-type {\n",
       "        vertical-align: middle;\n",
       "    }\n",
       "\n",
       "    .dataframe tbody tr th {\n",
       "        vertical-align: top;\n",
       "    }\n",
       "\n",
       "    .dataframe thead th {\n",
       "        text-align: right;\n",
       "    }\n",
       "</style>\n",
       "<table border=\"1\" class=\"dataframe\">\n",
       "  <thead>\n",
       "    <tr style=\"text-align: right;\">\n",
       "      <th></th>\n",
       "      <th>Call_ID</th>\n",
       "      <th>Sale</th>\n",
       "      <th>Agent_ID</th>\n",
       "      <th>Age</th>\n",
       "      <th>Product_ID</th>\n",
       "      <th>Timezone</th>\n",
       "      <th>Phone_code</th>\n",
       "      <th>First_Name</th>\n",
       "      <th>Last_Name</th>\n",
       "      <th>Area_Code</th>\n",
       "      <th>Gender</th>\n",
       "      <th>Call_Count</th>\n",
       "    </tr>\n",
       "  </thead>\n",
       "  <tbody>\n",
       "    <tr>\n",
       "      <th>0</th>\n",
       "      <td>9545434</td>\n",
       "      <td>False</td>\n",
       "      <td>5265</td>\n",
       "      <td>42</td>\n",
       "      <td>147</td>\n",
       "      <td>2</td>\n",
       "      <td>37.0</td>\n",
       "      <td>Jk</td>\n",
       "      <td>Jk</td>\n",
       "      <td>2302</td>\n",
       "      <td>Male</td>\n",
       "      <td>1</td>\n",
       "    </tr>\n",
       "    <tr>\n",
       "      <th>1</th>\n",
       "      <td>9211206</td>\n",
       "      <td>False</td>\n",
       "      <td>5226</td>\n",
       "      <td>74</td>\n",
       "      <td>146</td>\n",
       "      <td>2</td>\n",
       "      <td>37.0</td>\n",
       "      <td>Em</td>\n",
       "      <td>Sh</td>\n",
       "      <td>1501</td>\n",
       "      <td>Male</td>\n",
       "      <td>10</td>\n",
       "    </tr>\n",
       "    <tr>\n",
       "      <th>2</th>\n",
       "      <td>8873010</td>\n",
       "      <td>False</td>\n",
       "      <td>4452</td>\n",
       "      <td>35</td>\n",
       "      <td>144</td>\n",
       "      <td>2</td>\n",
       "      <td>37.0</td>\n",
       "      <td>BI</td>\n",
       "      <td>MI</td>\n",
       "      <td>1550</td>\n",
       "      <td>Male</td>\n",
       "      <td>9</td>\n",
       "    </tr>\n",
       "    <tr>\n",
       "      <th>3</th>\n",
       "      <td>9852034</td>\n",
       "      <td>False</td>\n",
       "      <td>5461</td>\n",
       "      <td>40</td>\n",
       "      <td>149</td>\n",
       "      <td>2</td>\n",
       "      <td>37.0</td>\n",
       "      <td>WT</td>\n",
       "      <td>LI</td>\n",
       "      <td>1401</td>\n",
       "      <td>Male</td>\n",
       "      <td>6</td>\n",
       "    </tr>\n",
       "    <tr>\n",
       "      <th>4</th>\n",
       "      <td>9416548</td>\n",
       "      <td>False</td>\n",
       "      <td>5298</td>\n",
       "      <td>26</td>\n",
       "      <td>147</td>\n",
       "      <td>2</td>\n",
       "      <td>37.0</td>\n",
       "      <td>LA</td>\n",
       "      <td>LA</td>\n",
       "      <td>125</td>\n",
       "      <td>Female</td>\n",
       "      <td>12</td>\n",
       "    </tr>\n",
       "  </tbody>\n",
       "</table>\n",
       "</div>"
      ],
      "text/plain": [
       "   Call_ID   Sale Agent_ID  Age  Product_ID  Timezone  Phone_code First_Name  \\\n",
       "0  9545434  False     5265   42         147         2        37.0         Jk   \n",
       "1  9211206  False     5226   74         146         2        37.0         Em   \n",
       "2  8873010  False     4452   35         144         2        37.0         BI   \n",
       "3  9852034  False     5461   40         149         2        37.0         WT   \n",
       "4  9416548  False     5298   26         147         2        37.0         LA   \n",
       "\n",
       "  Last_Name Area_Code  Gender  Call_Count  \n",
       "0        Jk      2302    Male           1  \n",
       "1        Sh      1501    Male          10  \n",
       "2        MI      1550    Male           9  \n",
       "3        LI      1401    Male           6  \n",
       "4        LA       125  Female          12  "
      ]
     },
     "execution_count": 6,
     "metadata": {},
     "output_type": "execute_result"
    }
   ],
   "source": [
    "# printing the first five rows of dataset\n",
    "df.head()"
   ]
  },
  {
   "cell_type": "markdown",
   "id": "795f3fe8-fc67-448a-84df-b4c02c400782",
   "metadata": {},
   "source": [
    "### Data Cleaning and Preprocessing"
   ]
  },
  {
   "cell_type": "code",
   "execution_count": 8,
   "id": "939439aa",
   "metadata": {
    "papermill": {
     "duration": 0.020988,
     "end_time": "2022-10-14T19:00:14.193371",
     "exception": false,
     "start_time": "2022-10-14T19:00:14.172383",
     "status": "completed"
    },
    "tags": []
   },
   "outputs": [
    {
     "data": {
      "text/plain": [
       "(100000, 12)"
      ]
     },
     "execution_count": 8,
     "metadata": {},
     "output_type": "execute_result"
    }
   ],
   "source": [
    "# getting the number of rows and columns\n",
    "df.shape"
   ]
  },
  {
   "cell_type": "code",
   "execution_count": 9,
   "id": "33b843fc",
   "metadata": {
    "papermill": {
     "duration": 0.103629,
     "end_time": "2022-10-14T19:00:14.305667",
     "exception": false,
     "start_time": "2022-10-14T19:00:14.202038",
     "status": "completed"
    },
    "tags": []
   },
   "outputs": [
    {
     "data": {
      "text/plain": [
       "0"
      ]
     },
     "execution_count": 9,
     "metadata": {},
     "output_type": "execute_result"
    }
   ],
   "source": [
    "# checking duplicated values in dataset\n",
    "df.duplicated().sum()"
   ]
  },
  {
   "cell_type": "code",
   "execution_count": 10,
   "id": "9310b8a8",
   "metadata": {
    "papermill": {
     "duration": 0.05048,
     "end_time": "2022-10-14T19:00:14.364538",
     "exception": false,
     "start_time": "2022-10-14T19:00:14.314058",
     "status": "completed"
    },
    "tags": []
   },
   "outputs": [
    {
     "data": {
      "text/plain": [
       "Call_ID          0\n",
       "Sale            32\n",
       "Agent_ID      2315\n",
       "Age              0\n",
       "Product_ID       0\n",
       "Timezone         0\n",
       "Phone_code      28\n",
       "First_Name     682\n",
       "Last_Name      681\n",
       "Area_Code      460\n",
       "Gender           0\n",
       "Call_Count       0\n",
       "dtype: int64"
      ]
     },
     "execution_count": 10,
     "metadata": {},
     "output_type": "execute_result"
    }
   ],
   "source": [
    "# checking null and missing values\n",
    "df.isnull().sum()"
   ]
  },
  {
   "cell_type": "code",
   "execution_count": 11,
   "id": "db3ec32f",
   "metadata": {
    "papermill": {
     "duration": 0.066949,
     "end_time": "2022-10-14T19:00:14.442092",
     "exception": false,
     "start_time": "2022-10-14T19:00:14.375143",
     "status": "completed"
    },
    "tags": []
   },
   "outputs": [
    {
     "name": "stdout",
     "output_type": "stream",
     "text": [
      "<class 'pandas.core.frame.DataFrame'>\n",
      "RangeIndex: 100000 entries, 0 to 99999\n",
      "Data columns (total 12 columns):\n",
      " #   Column      Non-Null Count   Dtype  \n",
      "---  ------      --------------   -----  \n",
      " 0   Call_ID     100000 non-null  int64  \n",
      " 1   Sale        99968 non-null   object \n",
      " 2   Agent_ID    97685 non-null   object \n",
      " 3   Age         100000 non-null  int64  \n",
      " 4   Product_ID  100000 non-null  int64  \n",
      " 5   Timezone    100000 non-null  int64  \n",
      " 6   Phone_code  99972 non-null   float64\n",
      " 7   First_Name  99318 non-null   object \n",
      " 8   Last_Name   99319 non-null   object \n",
      " 9   Area_Code   99540 non-null   object \n",
      " 10  Gender      100000 non-null  object \n",
      " 11  Call_Count  100000 non-null  int64  \n",
      "dtypes: float64(1), int64(5), object(6)\n",
      "memory usage: 9.2+ MB\n"
     ]
    }
   ],
   "source": [
    "# getting details information of dataset\n",
    "df.info()"
   ]
  },
  {
   "cell_type": "code",
   "execution_count": 12,
   "id": "f0d57086",
   "metadata": {
    "papermill": {
     "duration": 0.026839,
     "end_time": "2022-10-14T19:00:14.477700",
     "exception": false,
     "start_time": "2022-10-14T19:00:14.450861",
     "status": "completed"
    },
    "tags": []
   },
   "outputs": [],
   "source": [
    "# dropping un-neccessary columns from dataset\n",
    "df.drop(['Timezone', 'Phone_code', 'Area_Code'], axis= 1 , inplace=True)"
   ]
  },
  {
   "cell_type": "code",
   "execution_count": 13,
   "id": "e48669af",
   "metadata": {
    "papermill": {
     "duration": 0.090115,
     "end_time": "2022-10-14T19:00:14.576372",
     "exception": false,
     "start_time": "2022-10-14T19:00:14.486257",
     "status": "completed"
    },
    "tags": []
   },
   "outputs": [],
   "source": [
    "# dropping nell and missing values\n",
    "df.dropna(inplace= True)"
   ]
  },
  {
   "cell_type": "code",
   "execution_count": 14,
   "id": "f012f013-2b8e-41ff-8ee8-ae16f818f8b2",
   "metadata": {},
   "outputs": [
    {
     "data": {
      "text/plain": [
       "Call_ID       0\n",
       "Sale          0\n",
       "Agent_ID      0\n",
       "Age           0\n",
       "Product_ID    0\n",
       "First_Name    0\n",
       "Last_Name     0\n",
       "Gender        0\n",
       "Call_Count    0\n",
       "dtype: int64"
      ]
     },
     "execution_count": 14,
     "metadata": {},
     "output_type": "execute_result"
    }
   ],
   "source": [
    "# checking null and missing values\n",
    "df.isnull().sum()"
   ]
  },
  {
   "cell_type": "code",
   "execution_count": 15,
   "id": "39762c6c-2226-41a2-8ad8-926b4f56c933",
   "metadata": {},
   "outputs": [
    {
     "data": {
      "text/plain": [
       "(96525, 9)"
      ]
     },
     "execution_count": 15,
     "metadata": {},
     "output_type": "execute_result"
    }
   ],
   "source": [
    "# getting the shape of dataset\n",
    "df.shape"
   ]
  },
  {
   "cell_type": "code",
   "execution_count": 16,
   "id": "c0c070eb",
   "metadata": {
    "papermill": {
     "duration": 0.028332,
     "end_time": "2022-10-14T19:00:14.613802",
     "exception": false,
     "start_time": "2022-10-14T19:00:14.585470",
     "status": "completed"
    },
    "tags": []
   },
   "outputs": [
    {
     "data": {
      "text/html": [
       "<div>\n",
       "<style scoped>\n",
       "    .dataframe tbody tr th:only-of-type {\n",
       "        vertical-align: middle;\n",
       "    }\n",
       "\n",
       "    .dataframe tbody tr th {\n",
       "        vertical-align: top;\n",
       "    }\n",
       "\n",
       "    .dataframe thead th {\n",
       "        text-align: right;\n",
       "    }\n",
       "</style>\n",
       "<table border=\"1\" class=\"dataframe\">\n",
       "  <thead>\n",
       "    <tr style=\"text-align: right;\">\n",
       "      <th></th>\n",
       "      <th>Call_ID</th>\n",
       "      <th>Sale</th>\n",
       "      <th>Agent_ID</th>\n",
       "      <th>Age</th>\n",
       "      <th>Product_ID</th>\n",
       "      <th>First_Name</th>\n",
       "      <th>Last_Name</th>\n",
       "      <th>Gender</th>\n",
       "      <th>Call_Count</th>\n",
       "    </tr>\n",
       "  </thead>\n",
       "  <tbody>\n",
       "    <tr>\n",
       "      <th>0</th>\n",
       "      <td>9545434</td>\n",
       "      <td>False</td>\n",
       "      <td>5265</td>\n",
       "      <td>42</td>\n",
       "      <td>147</td>\n",
       "      <td>Jk</td>\n",
       "      <td>Jk</td>\n",
       "      <td>Male</td>\n",
       "      <td>1</td>\n",
       "    </tr>\n",
       "    <tr>\n",
       "      <th>1</th>\n",
       "      <td>9211206</td>\n",
       "      <td>False</td>\n",
       "      <td>5226</td>\n",
       "      <td>74</td>\n",
       "      <td>146</td>\n",
       "      <td>Em</td>\n",
       "      <td>Sh</td>\n",
       "      <td>Male</td>\n",
       "      <td>10</td>\n",
       "    </tr>\n",
       "    <tr>\n",
       "      <th>2</th>\n",
       "      <td>8873010</td>\n",
       "      <td>False</td>\n",
       "      <td>4452</td>\n",
       "      <td>35</td>\n",
       "      <td>144</td>\n",
       "      <td>BI</td>\n",
       "      <td>MI</td>\n",
       "      <td>Male</td>\n",
       "      <td>9</td>\n",
       "    </tr>\n",
       "    <tr>\n",
       "      <th>3</th>\n",
       "      <td>9852034</td>\n",
       "      <td>False</td>\n",
       "      <td>5461</td>\n",
       "      <td>40</td>\n",
       "      <td>149</td>\n",
       "      <td>WT</td>\n",
       "      <td>LI</td>\n",
       "      <td>Male</td>\n",
       "      <td>6</td>\n",
       "    </tr>\n",
       "    <tr>\n",
       "      <th>4</th>\n",
       "      <td>9416548</td>\n",
       "      <td>False</td>\n",
       "      <td>5298</td>\n",
       "      <td>26</td>\n",
       "      <td>147</td>\n",
       "      <td>LA</td>\n",
       "      <td>LA</td>\n",
       "      <td>Female</td>\n",
       "      <td>12</td>\n",
       "    </tr>\n",
       "  </tbody>\n",
       "</table>\n",
       "</div>"
      ],
      "text/plain": [
       "   Call_ID   Sale Agent_ID  Age  Product_ID First_Name Last_Name  Gender  \\\n",
       "0  9545434  False     5265   42         147         Jk        Jk    Male   \n",
       "1  9211206  False     5226   74         146         Em        Sh    Male   \n",
       "2  8873010  False     4452   35         144         BI        MI    Male   \n",
       "3  9852034  False     5461   40         149         WT        LI    Male   \n",
       "4  9416548  False     5298   26         147         LA        LA  Female   \n",
       "\n",
       "   Call_Count  \n",
       "0           1  \n",
       "1          10  \n",
       "2           9  \n",
       "3           6  \n",
       "4          12  "
      ]
     },
     "execution_count": 16,
     "metadata": {},
     "output_type": "execute_result"
    }
   ],
   "source": [
    "df.head()"
   ]
  },
  {
   "cell_type": "markdown",
   "id": "9b586751-58d0-418d-b63f-3a712114ebba",
   "metadata": {},
   "source": [
    "### Exploratory Data Analysis and Data Visualization"
   ]
  },
  {
   "cell_type": "code",
   "execution_count": 18,
   "id": "dcddfb08",
   "metadata": {
    "papermill": {
     "duration": 0.028397,
     "end_time": "2022-10-14T19:00:14.651186",
     "exception": false,
     "start_time": "2022-10-14T19:00:14.622789",
     "status": "completed"
    },
    "tags": []
   },
   "outputs": [
    {
     "data": {
      "text/plain": [
       "Sale\n",
       "False    88076\n",
       "True      8449\n",
       "Name: count, dtype: int64"
      ]
     },
     "execution_count": 18,
     "metadata": {},
     "output_type": "execute_result"
    }
   ],
   "source": [
    "# Count of values from Sale column\n",
    "df.Sale.value_counts()"
   ]
  },
  {
   "cell_type": "code",
   "execution_count": 19,
   "id": "0698d1a7",
   "metadata": {
    "papermill": {
     "duration": 0.197763,
     "end_time": "2022-10-14T19:00:14.858101",
     "exception": false,
     "start_time": "2022-10-14T19:00:14.660338",
     "status": "completed"
    },
    "tags": []
   },
   "outputs": [
    {
     "data": {
      "image/png": "[encoded data removed]",
      "text/plain": [
       "<Figure size 1000x600 with 1 Axes>"
      ]
     },
     "metadata": {},
     "output_type": "display_data"
    }
   ],
   "source": [
    "# Pie chart for counting values from Sale column \n",
    "plt.figure(figsize=(10,6))\n",
    "plt.pie(df.Sale.value_counts(), labels=['False', 'True'], autopct='%.0f%%')\n",
    "plt.title('Type of Values in Sale', fontsize=12, weight='bold')\n",
    "plt.show()"
   ]
  },
  {
   "cell_type": "markdown",
   "id": "0c91ec9a",
   "metadata": {
    "papermill": {
     "duration": 0.022928,
     "end_time": "2022-10-14T19:00:14.906285",
     "exception": false,
     "start_time": "2022-10-14T19:00:14.883357",
     "status": "completed"
    },
    "tags": []
   },
   "source": [
    "Note - Only 9% of Telemarketing converted into sales  "
   ]
  },
  {
   "cell_type": "code",
   "execution_count": 21,
   "id": "82c68e23",
   "metadata": {
    "papermill": {
     "duration": 0.022786,
     "end_time": "2022-10-14T19:00:14.938707",
     "exception": false,
     "start_time": "2022-10-14T19:00:14.915921",
     "status": "completed"
    },
    "tags": []
   },
   "outputs": [
    {
     "data": {
      "text/plain": [
       "Product_ID\n",
       "148    15068\n",
       "146    14985\n",
       "147    14887\n",
       "149    14667\n",
       "145    10357\n",
       "150     9530\n",
       "144     5906\n",
       "151     5686\n",
       "143     3727\n",
       "142     1712\n",
       "Name: count, dtype: int64"
      ]
     },
     "execution_count": 21,
     "metadata": {},
     "output_type": "execute_result"
    }
   ],
   "source": [
    "# Count of differnt ID's from Product ID column\n",
    "df.Product_ID.value_counts()"
   ]
  },
  {
   "cell_type": "code",
   "execution_count": 22,
   "id": "2b628f34",
   "metadata": {
    "papermill": {
     "duration": 0.025945,
     "end_time": "2022-10-14T19:00:14.974763",
     "exception": false,
     "start_time": "2022-10-14T19:00:14.948818",
     "status": "completed"
    },
    "tags": []
   },
   "outputs": [
    {
     "data": {
      "text/plain": [
       "Gender\n",
       "Male      50402\n",
       "Female    45192\n",
       "Others      931\n",
       "Name: count, dtype: int64"
      ]
     },
     "execution_count": 22,
     "metadata": {},
     "output_type": "execute_result"
    }
   ],
   "source": [
    "# Count of types of Gender from Gender column\n",
    "df.Gender.value_counts()"
   ]
  },
  {
   "cell_type": "code",
   "execution_count": 23,
   "id": "9b1c6cfa",
   "metadata": {
    "papermill": {
     "duration": 0.140478,
     "end_time": "2022-10-14T19:00:15.125277",
     "exception": false,
     "start_time": "2022-10-14T19:00:14.984799",
     "status": "completed"
    },
    "tags": []
   },
   "outputs": [
    {
     "data": {
      "image/png": "[encoded data removed]",
      "text/plain": [
       "<Figure size 1000x600 with 1 Axes>"
      ]
     },
     "metadata": {},
     "output_type": "display_data"
    }
   ],
   "source": [
    "# Pie chart for count of values from Gender column\n",
    "plt.figure(figsize=(10,6))\n",
    "plt.pie(df.Gender.value_counts(), labels=['Male', 'Female', 'Others'], autopct='%.0f%%')\n",
    "plt.title('Count of values from Gender', fontsize=12, weight='bold')\n",
    "plt.show()"
   ]
  },
  {
   "cell_type": "markdown",
   "id": "043e8cc6",
   "metadata": {
    "papermill": {
     "duration": 0.0261,
     "end_time": "2022-10-14T19:00:15.176920",
     "exception": false,
     "start_time": "2022-10-14T19:00:15.150820",
     "status": "completed"
    },
    "tags": []
   },
   "source": [
    "Note - \n",
    "* Male forms 52% of total customers\n",
    "* while female are 47%"
   ]
  },
  {
   "cell_type": "code",
   "execution_count": 25,
   "id": "ba8f6bd9",
   "metadata": {
    "papermill": {
     "duration": 0.048354,
     "end_time": "2022-10-14T19:00:15.245529",
     "exception": false,
     "start_time": "2022-10-14T19:00:15.197175",
     "status": "completed"
    },
    "tags": []
   },
   "outputs": [
    {
     "data": {
      "text/plain": [
       "Gender  Sale \n",
       "Female  False    41473\n",
       "        True      3719\n",
       "Male    False    45795\n",
       "        True      4607\n",
       "Others  False      808\n",
       "        True       123\n",
       "Name: count, dtype: int64"
      ]
     },
     "execution_count": 25,
     "metadata": {},
     "output_type": "execute_result"
    }
   ],
   "source": [
    "# Grouping Gender column with respect to Sale column\n",
    "df.groupby(['Gender'])['Sale'].value_counts()"
   ]
  },
  {
   "cell_type": "code",
   "execution_count": 26,
   "id": "923d36f5",
   "metadata": {
    "papermill": {
     "duration": 0.025999,
     "end_time": "2022-10-14T19:00:15.281541",
     "exception": false,
     "start_time": "2022-10-14T19:00:15.255542",
     "status": "completed"
    },
    "tags": []
   },
   "outputs": [
    {
     "data": {
      "text/plain": [
       "Call_Count\n",
       "1     35536\n",
       "2     19685\n",
       "3     11789\n",
       "4      7211\n",
       "5      4616\n",
       "9      4165\n",
       "6      3340\n",
       "7      3280\n",
       "8      2661\n",
       "12     1054\n",
       "10     1042\n",
       "15      865\n",
       "11      748\n",
       "13      255\n",
       "14      251\n",
       "16       15\n",
       "17        5\n",
       "19        2\n",
       "29        1\n",
       "38        1\n",
       "21        1\n",
       "22        1\n",
       "55        1\n",
       "Name: count, dtype: int64"
      ]
     },
     "execution_count": 26,
     "metadata": {},
     "output_type": "execute_result"
    }
   ],
   "source": [
    "# count of values from call_Count column\n",
    "df.Call_Count.value_counts()"
   ]
  },
  {
   "cell_type": "markdown",
   "id": "8856ba1a",
   "metadata": {
    "papermill": {
     "duration": 0.009719,
     "end_time": "2022-10-14T19:00:15.301709",
     "exception": false,
     "start_time": "2022-10-14T19:00:15.291990",
     "status": "completed"
    },
    "tags": []
   },
   "source": [
    "**We will segment Call Count column to be easily handled**"
   ]
  },
  {
   "cell_type": "code",
   "execution_count": 28,
   "id": "7aa2921d",
   "metadata": {
    "papermill": {
     "duration": 0.025616,
     "end_time": "2022-10-14T19:00:15.337986",
     "exception": false,
     "start_time": "2022-10-14T19:00:15.312370",
     "status": "completed"
    },
    "tags": []
   },
   "outputs": [],
   "source": [
    "bin_edges = [0, 5, 10, 15, 20, 25, 30, 55]\n",
    "bin_names = ['1-5', '6-10', '11-15', '16-20', '21-25', '26-30', '>30']\n",
    "df['Call_range'] = pd.cut(df['Call_Count'], bin_edges, labels= bin_names)"
   ]
  },
  {
   "cell_type": "code",
   "execution_count": 29,
   "id": "a88ca245",
   "metadata": {
    "papermill": {
     "duration": 0.025546,
     "end_time": "2022-10-14T19:00:15.373789",
     "exception": false,
     "start_time": "2022-10-14T19:00:15.348243",
     "status": "completed"
    },
    "tags": []
   },
   "outputs": [
    {
     "data": {
      "text/plain": [
       "Call_range\n",
       "1-5      78837\n",
       "6-10     14488\n",
       "11-15     3173\n",
       "16-20       22\n",
       "21-25        2\n",
       ">30          2\n",
       "26-30        1\n",
       "Name: count, dtype: int64"
      ]
     },
     "execution_count": 29,
     "metadata": {},
     "output_type": "execute_result"
    }
   ],
   "source": [
    "# count of Call_range values\n",
    "df.Call_range.value_counts()"
   ]
  },
  {
   "cell_type": "code",
   "execution_count": 30,
   "id": "555e0608",
   "metadata": {
    "papermill": {
     "duration": 0.037928,
     "end_time": "2022-10-14T19:00:15.421944",
     "exception": false,
     "start_time": "2022-10-14T19:00:15.384016",
     "status": "completed"
    },
    "tags": []
   },
   "outputs": [
    {
     "data": {
      "text/plain": [
       "Call_range  Sale \n",
       "1-5         False    71477\n",
       "            True      7360\n",
       "6-10        False    13566\n",
       "            True       922\n",
       "11-15       False     3007\n",
       "            True       166\n",
       "16-20       False       21\n",
       "            True         1\n",
       "21-25       False        2\n",
       "            True         0\n",
       "26-30       False        1\n",
       "            True         0\n",
       ">30         False        2\n",
       "            True         0\n",
       "Name: count, dtype: int64"
      ]
     },
     "execution_count": 30,
     "metadata": {},
     "output_type": "execute_result"
    }
   ],
   "source": [
    "# grouping Call_range values with respect to Sale\n",
    "df.groupby('Call_range')['Sale'].value_counts()"
   ]
  },
  {
   "cell_type": "markdown",
   "id": "55a826ff",
   "metadata": {
    "papermill": {
     "duration": 0.009881,
     "end_time": "2022-10-14T19:00:15.442377",
     "exception": false,
     "start_time": "2022-10-14T19:00:15.432496",
     "status": "completed"
    },
    "tags": []
   },
   "source": [
    "Note - Call count didn't affect on percentage of sale"
   ]
  },
  {
   "cell_type": "code",
   "execution_count": 32,
   "id": "567a632a",
   "metadata": {
    "papermill": {
     "duration": 0.054636,
     "end_time": "2022-10-14T19:00:15.507315",
     "exception": false,
     "start_time": "2022-10-14T19:00:15.452679",
     "status": "completed"
    },
    "tags": []
   },
   "outputs": [],
   "source": [
    "# writing query to sale and NoSale column\n",
    "df_sale = df.query('Sale == True')\n",
    "df_nosale = df.query('Sale == False')"
   ]
  },
  {
   "cell_type": "code",
   "execution_count": 33,
   "id": "3ed938b0",
   "metadata": {
    "papermill": {
     "duration": 0.024883,
     "end_time": "2022-10-14T19:00:15.543842",
     "exception": false,
     "start_time": "2022-10-14T19:00:15.518959",
     "status": "completed"
    },
    "tags": []
   },
   "outputs": [
    {
     "data": {
      "text/plain": [
       "(52.38430583501006, 52.57362959262455)"
      ]
     },
     "execution_count": 33,
     "metadata": {},
     "output_type": "execute_result"
    }
   ],
   "source": [
    "# getting mean of age with respect Sale and nosale data\n",
    "df_sale.Age.mean() , df_nosale.Age.mean()"
   ]
  },
  {
   "cell_type": "markdown",
   "id": "5e1e9d7f",
   "metadata": {
    "papermill": {
     "duration": 0.00996,
     "end_time": "2022-10-14T19:00:15.564265",
     "exception": false,
     "start_time": "2022-10-14T19:00:15.554305",
     "status": "completed"
    },
    "tags": []
   },
   "source": [
    "Note -\n",
    "* Mean age of sales in the two data is very close to each other,\n",
    "* Which means that age doesn't affect sales."
   ]
  },
  {
   "cell_type": "code",
   "execution_count": 35,
   "id": "1130f39e",
   "metadata": {
    "papermill": {
     "duration": 0.216373,
     "end_time": "2022-10-14T19:00:15.791682",
     "exception": false,
     "start_time": "2022-10-14T19:00:15.575309",
     "status": "completed"
    },
    "tags": []
   },
   "outputs": [
    {
     "data": {
      "image/png": "[encoded data removed]",
      "text/plain": [
       "<Figure size 800x400 with 1 Axes>"
      ]
     },
     "metadata": {},
     "output_type": "display_data"
    }
   ],
   "source": [
    "# Box plot for Age column\n",
    "plt.figure(figsize=(8,4))\n",
    "sns.boxplot(df['Age'])\n",
    "plt.title('Box plot for Age')\n",
    "plt.show()"
   ]
  },
  {
   "cell_type": "markdown",
   "id": "b4f34014",
   "metadata": {
    "papermill": {
     "duration": 0.010445,
     "end_time": "2022-10-14T19:00:15.813199",
     "exception": false,
     "start_time": "2022-10-14T19:00:15.802754",
     "status": "completed"
    },
    "tags": []
   },
   "source": [
    "Note - As we see above the mean age is around 52 years."
   ]
  },
  {
   "cell_type": "code",
   "execution_count": 37,
   "id": "d0050e6c",
   "metadata": {
    "papermill": {
     "duration": 0.024779,
     "end_time": "2022-10-14T19:00:15.848767",
     "exception": false,
     "start_time": "2022-10-14T19:00:15.823988",
     "status": "completed"
    },
    "tags": []
   },
   "outputs": [
    {
     "data": {
      "text/plain": [
       "Product_ID\n",
       "148    1616\n",
       "149    1407\n",
       "146    1130\n",
       "145    1130\n",
       "147    1049\n",
       "150     922\n",
       "144     458\n",
       "151     401\n",
       "143     219\n",
       "142     117\n",
       "Name: count, dtype: int64"
      ]
     },
     "execution_count": 37,
     "metadata": {},
     "output_type": "execute_result"
    }
   ],
   "source": [
    "# counting values of Product_ID from sale data\n",
    "df_sale['Product_ID'].value_counts()"
   ]
  },
  {
   "cell_type": "code",
   "execution_count": 38,
   "id": "9c66a1f1",
   "metadata": {
    "papermill": {
     "duration": 0.025769,
     "end_time": "2022-10-14T19:00:15.885781",
     "exception": false,
     "start_time": "2022-10-14T19:00:15.860012",
     "status": "completed"
    },
    "tags": []
   },
   "outputs": [
    {
     "data": {
      "text/plain": [
       "Product_ID\n",
       "146    13855\n",
       "147    13838\n",
       "148    13452\n",
       "149    13260\n",
       "145     9227\n",
       "150     8608\n",
       "144     5448\n",
       "151     5285\n",
       "143     3508\n",
       "142     1595\n",
       "Name: count, dtype: int64"
      ]
     },
     "execution_count": 38,
     "metadata": {},
     "output_type": "execute_result"
    }
   ],
   "source": [
    "# counting values of Product_ID from nosale data\n",
    "df_nosale['Product_ID'].value_counts()"
   ]
  },
  {
   "cell_type": "code",
   "execution_count": 39,
   "id": "6662f4fc-295c-4b15-a228-970e756f1531",
   "metadata": {},
   "outputs": [
    {
     "data": {
      "image/png": "[encoded data removed]",
      "text/plain": [
       "<Figure size 1000x600 with 1 Axes>"
      ]
     },
     "metadata": {},
     "output_type": "display_data"
    }
   ],
   "source": [
    "# Count the occurrences of each product ID\n",
    "product_count = df_sale['Product_ID'].value_counts()\n",
    "\n",
    "# Plot using matplotlib\n",
    "plt.figure(figsize=(10, 6))\n",
    "plt.bar(product_count.index.astype(str), product_count.values)\n",
    "plt.title('Product Count Distribution')\n",
    "plt.xlabel('Product ID')\n",
    "plt.ylabel('Frequency')\n",
    "plt.xticks(rotation=90)\n",
    "plt.show()"
   ]
  },
  {
   "cell_type": "code",
   "execution_count": 40,
   "id": "1f9ae53a-8a90-4b14-a03e-12317cdfb077",
   "metadata": {},
   "outputs": [
    {
     "data": {
      "image/png": "[encoded data removed]",
      "text/plain": [
       "<Figure size 1000x600 with 1 Axes>"
      ]
     },
     "metadata": {},
     "output_type": "display_data"
    }
   ],
   "source": [
    "# Count the occurrences of each product ID\n",
    "product_count = df_nosale['Product_ID'].value_counts()\n",
    "\n",
    "# Plot using matplotlib\n",
    "plt.figure(figsize=(10, 6))\n",
    "plt.bar(product_count.index.astype(str), product_count.values)\n",
    "plt.title('Product Count Distribution')\n",
    "plt.xlabel('Product ID')\n",
    "plt.ylabel('Frequency')\n",
    "plt.xticks(rotation=90)\n",
    "plt.show()"
   ]
  },
  {
   "cell_type": "markdown",
   "id": "0db953c4",
   "metadata": {
    "papermill": {
     "duration": 0.011343,
     "end_time": "2022-10-14T19:00:16.519208",
     "exception": false,
     "start_time": "2022-10-14T19:00:16.507865",
     "status": "completed"
    },
    "tags": []
   },
   "source": [
    "Note -\n",
    "* The most two products sold are 148, 149 of product_ID\n",
    "\n",
    "* And the most two products with false sale are 146, 147 of product_ID"
   ]
  },
  {
   "cell_type": "markdown",
   "id": "53ea6661",
   "metadata": {
    "papermill": {
     "duration": 0.012029,
     "end_time": "2022-10-14T19:00:16.543506",
     "exception": false,
     "start_time": "2022-10-14T19:00:16.531477",
     "status": "completed"
    },
    "tags": []
   },
   "source": [
    "##### **Final Conclusion:**\n",
    "\n",
    "* Only 9% of telemarketing calls resulted in sales.\n",
    "* 52% of customers are male, and 47% are female.\n",
    "* The number of calls did not affect the sales percentage.\n",
    "* The average age of customers is around 52 years.\n",
    "* The average age of customers who made a purchase is similar across both datasets, meaning age does not have much impact on sales.\n",
    "* The two most sold products are product_ID 148 and 149.\n",
    "* The two products with the highest false sales are product_ID 146 and 147.\n",
    "\n",
    "##### **Recommendations:**\n",
    "\n",
    "* The marketing department should rethink the current campaign.\n",
    "* It would be better to target specific customer segments and tailor the campaign accordingly.\n",
    "* The dataset is missing useful information, such as the number of sales per customer, which could help in performing a deeper analysis."
   ]
  },
  {
   "cell_type": "code",
   "execution_count": null,
   "id": "3499599c-075e-4236-a113-6ec5b14191e2",
   "metadata": {},
   "outputs": [],
   "source": []
  }
 ],
 "metadata": {
  "kernelspec": {
   "display_name": "Python 3 (ipykernel)",
   "language": "python",
   "name": "python3"
  },
  "language_info": {
   "codemirror_mode": {
    "name": "ipython",
    "version": 3
   },
   "file_extension": ".py",
   "mimetype": "text/x-python",
   "name": "python",
   "nbconvert_exporter": "python",
   "pygments_lexer": "ipython3",
   "version": "3.12.4"
  },
  "papermill": {
   "default_parameters": {},
   "duration": 16.113576,
   "end_time": "2022-10-14T19:00:17.380890",
   "environment_variables": {},
   "exception": null,
   "input_path": "__notebook__.ipynb",
   "output_path": "__notebook__.ipynb",
   "parameters": {},
   "start_time": "2022-10-14T19:00:01.267314",
   "version": "2.3.4"
  }
 },
 "nbformat": 4,
 "nbformat_minor": 5
}
